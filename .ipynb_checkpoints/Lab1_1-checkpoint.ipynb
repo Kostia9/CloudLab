{
 "cells": [
  {
   "cell_type": "code",
   "execution_count": null,
   "id": "7b32a369",
   "metadata": {},
   "outputs": [],
   "source": [
    "import requests\n",
    "import csv\n",
    "import os\n",
    "import boto3\n",
    "from datetime import datetime, timedelta"
   ]
  },
  {
   "cell_type": "code",
   "execution_count": 5,
   "id": "b940ca39",
   "metadata": {
    "scrolled": true
   },
   "outputs": [],
   "source": [
    "start_date = datetime.strptime(\"01012021\", \"%d%m%Y\")\n",
    "end_date = datetime.strptime(\"31122021\", \"%d%m%Y\")\n",
    "data_list = []\n",
    "\n",
    "while start_date <= end_date:\n",
    "    date_str = start_date.strftime(\"%d%m%Y\")\n",
    "    url = f\"https://bank.gov.ua/NBU_Exchange/exchange?date={date_str}&json\"\n",
    "\n",
    "    response = requests.get(url)\n",
    "    if response.status_code == 200:\n",
    "        data = response.json()\n",
    "        data_list.extend(data)\n",
    "    else:\n",
    "        print(f\"Error on {date_str}: {response.status_code}\")\n",
    "\n",
    "    # Збільшити дату на один день\n",
    "    start_date += timedelta(days=1)"
   ]
  },
  {
   "cell_type": "code",
   "execution_count": null,
   "id": "6abf057b",
   "metadata": {},
   "outputs": [],
   "source": [
    "with open(\"exchange_rates_2021.csv\", \"w\", newline='', encoding='utf-8') as csvfile:\n",
    "        fieldnames = ['StartDate', 'TimeSign', 'CurrencyCode', 'CurrencyCodeL', 'Units', 'Amount']\n",
    "        writer = csv.DictWriter(csvfile, fieldnames=fieldnames)\n",
    "\n",
    "        # Записати заголовки CSV-файлу\n",
    "        writer.writeheader()\n",
    "\n",
    "        # Записати дані в CSV-файл\n",
    "        for row in data_list:\n",
    "            writer.writerow(row)"
   ]
  },
  {
   "cell_type": "code",
   "execution_count": null,
   "id": "10052f78",
   "metadata": {},
   "outputs": [],
   "source": [
    "def upload_file(file_name, bucket, object_name=None):\n",
    "    \"\"\"Upload a file to an S3 bucket\n",
    "\n",
    "    :param file_name: File to upload\n",
    "    :param bucket: Bucket to upload to\n",
    "    :param object_name: S3 object name. If not specified then file_name is used\n",
    "    :return: True if file was uploaded, else False\n",
    "    \"\"\"\n",
    "\n",
    "    # If S3 object_name was not specified, use file_name\n",
    "    if object_name is None:\n",
    "        object_name = os.path.basename(file_name)\n",
    "\n",
    "    # Upload the file\n",
    "    s3_client = boto3.client('s3')\n",
    "    try:\n",
    "        response = s3_client.upload_file(file_name, bucket, object_name)\n",
    "    except ClientError as e:\n",
    "        logging.error(e)\n",
    "        return False\n",
    "    return True"
   ]
  },
  {
   "cell_type": "code",
   "execution_count": null,
   "id": "dc694a49",
   "metadata": {},
   "outputs": [],
   "source": [
    "csv_file_path = \"exchange_rates_2021.csv\" \n",
    "s3_bucket_name = \"bucket-kostia\"\n",
    "\n",
    "upload_file(csv_file_path, s3_bucket_name)"
   ]
  },
  {
   "cell_type": "code",
   "execution_count": null,
   "id": "eaf4ce4f",
   "metadata": {},
   "outputs": [],
   "source": []
  }
 ],
 "metadata": {
  "kernelspec": {
   "display_name": "Python 3 (ipykernel)",
   "language": "python",
   "name": "python3"
  },
  "language_info": {
   "codemirror_mode": {
    "name": "ipython",
    "version": 3
   },
   "file_extension": ".py",
   "mimetype": "text/x-python",
   "name": "python",
   "nbconvert_exporter": "python",
   "pygments_lexer": "ipython3",
   "version": "3.9.16"
  }
 },
 "nbformat": 4,
 "nbformat_minor": 5
}
